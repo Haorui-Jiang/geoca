{
  "nbformat": 4,
  "nbformat_minor": 0,
  "metadata": {
    "colab": {
      "provenance": []
    },
    "kernelspec": {
      "name": "python3",
      "display_name": "Python 3"
    },
    "language_info": {
      "name": "python"
    }
  },
  "cells": [
    {
      "cell_type": "code",
      "execution_count": 1,
      "metadata": {
        "colab": {
          "base_uri": "https://localhost:8080/"
        },
        "id": "6W8i19bhk-Nm",
        "outputId": "988b377a-b0b1-498b-dd57-800725a11f2c"
      },
      "outputs": [
        {
          "output_type": "stream",
          "name": "stdout",
          "text": [
            "Collecting geoca\n",
            "  Downloading geoca-0.0.1-py2.py3-none-any.whl (2.6 kB)\n",
            "Requirement already satisfied: numpy in /usr/local/lib/python3.10/dist-packages (from geoca) (1.25.2)\n",
            "Installing collected packages: geoca\n",
            "Successfully installed geoca-0.0.1\n"
          ]
        }
      ],
      "source": [
        "%pip install geoca"
      ]
    },
    {
      "cell_type": "code",
      "source": [
        "from geoca.common import hello_world"
      ],
      "metadata": {
        "id": "aFHHMRATlBf1"
      },
      "execution_count": 5,
      "outputs": []
    },
    {
      "cell_type": "code",
      "source": [
        "hello_world()"
      ],
      "metadata": {
        "colab": {
          "base_uri": "https://localhost:8080/"
        },
        "id": "nMhSykyylKEa",
        "outputId": "e76067ea-cb14-4435-a551-6bb5d2a57f50"
      },
      "execution_count": 6,
      "outputs": [
        {
          "output_type": "stream",
          "name": "stdout",
          "text": [
            "Hello World!\n"
          ]
        }
      ]
    },
    {
      "cell_type": "code",
      "source": [],
      "metadata": {
        "id": "NrtgTmxwlRDn"
      },
      "execution_count": null,
      "outputs": []
    }
  ]
}