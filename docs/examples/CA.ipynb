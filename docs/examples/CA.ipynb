{
 "cells": [
  {
   "cell_type": "markdown",
   "metadata": {},
   "source": [
    "[![Open In Colab](https://colab.research.google.com/assets/colab-badge.svg)](https://colab.research.google.com/drive/1y_mtXLHAqGvRqpUdEC4ilHsZY-zICs4E)\n",
    "\n",
    "Uncomment the following line to install [geoca](https://haorui-jiang.github.io/geoca/) if needed."
   ]
  },
  {
   "cell_type": "code",
   "execution_count": null,
   "metadata": {},
   "outputs": [],
   "source": [
    "# !pip install geoca"
   ]
  },
  {
   "cell_type": "markdown",
   "metadata": {},
   "source": [
    "Import two modules, **rasterconvert** and **cellularautomata**.\n",
    "\n",
    "Use **rasterconvert** for converting raster data formats and **cellularautomata** for running CA models."
   ]
  },
  {
   "cell_type": "code",
   "execution_count": null,
   "metadata": {},
   "outputs": [],
   "source": [
    "from geoca import rasterconvert, cellularautomata"
   ]
  },
  {
   "cell_type": "markdown",
   "metadata": {},
   "source": [
    "**rasterconvert.raster_list(file_path)**:\n",
    "- Read raster data from a file, convert NoData values to None, and convert the data into a Python list.\n",
    "\n",
    "**Data Source**:\n",
    "- Elevation data for France downloaded from [DIVA-GIS](https://www.diva-gis.org/gdata), which data source is [CGIAR SRTM](https://srtm.csi.cgiar.org/)."
   ]
  },
  {
   "cell_type": "code",
   "execution_count": null,
   "metadata": {},
   "outputs": [],
   "source": [
    "raster_file = \"../data/DEM_France.tif\"\n",
    "data_list = rasterconvert.raster_list(raster_file)\n",
    "\n",
    "# Read the first 100 rows of a data list and output all non-None values\n",
    "for row in data_list[:100]:\n",
    "    non_none_values = [value for value in row if value is not None]\n",
    "    if non_none_values:\n",
    "        print(non_none_values)"
   ]
  },
  {
   "cell_type": "code",
   "execution_count": null,
   "metadata": {},
   "outputs": [],
   "source": [
    "# Set the file paths for the original raster data and the new raster data to be output\n",
    "input_raster_path = raster_file\n",
    "output_raster_path = \"../data/result.tif\""
   ]
  },
  {
   "cell_type": "markdown",
   "metadata": {},
   "source": [
    "**cellularautomata.run_ca_iterations(iterations, data_list, population_num=10)**:\n",
    "- Run a cellular automata simulation for migration of population based on raster data."
   ]
  },
  {
   "cell_type": "code",
   "execution_count": null,
   "metadata": {},
   "outputs": [],
   "source": [
    "# Run the cellular automata simulation for 5 iterations with an initial population count of 10 at each pixel\n",
    "new_data = cellularautomata.run_ca_iterations(5, data_list, population_num=10)"
   ]
  },
  {
   "cell_type": "markdown",
   "metadata": {},
   "source": [
    "**rasterconvert.process_raster_data(input_raster_path, output_raster_path, new_data)**:\n",
    "- Create a raster template based on the input raster, process the raster data by replacing pixel values with the new data."
   ]
  },
  {
   "cell_type": "code",
   "execution_count": null,
   "metadata": {},
   "outputs": [],
   "source": [
    "rasterconvert.process_raster_data(input_raster_path, output_raster_path, new_data)"
   ]
  }
 ],
 "metadata": {
  "kernelspec": {
   "display_name": "Python 3",
   "language": "python",
   "name": "python3"
  },
  "language_info": {
   "codemirror_mode": {
    "name": "ipython",
    "version": 3
   },
   "file_extension": ".py",
   "mimetype": "text/x-python",
   "name": "python",
   "nbconvert_exporter": "python",
   "pygments_lexer": "ipython3",
   "version": "3.11.7"
  }
 },
 "nbformat": 4,
 "nbformat_minor": 2
}
